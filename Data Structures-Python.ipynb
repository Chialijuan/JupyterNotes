{
 "cells": [
  {
   "cell_type": "markdown",
   "metadata": {},
   "source": [
    "### List \n",
    ": is an ordered collection of zero or more references to Python data objects.\n",
    "\n",
    " Lists are heterogeneous, meaning that the data objects need not all be from the same class and the collection can be assigned to a variable as below.\n",
    " \n",
    "- sequentially ordered\n",
    "- mutable\n",
    " "
   ]
  },
  {
   "cell_type": "markdown",
   "metadata": {},
   "source": [
    "### String\n",
    ": are sequential collections of zero or more letters, numbers and other symbols.\n",
    "\n",
    "- immutable\n",
    "\n"
   ]
  },
  {
   "cell_type": "markdown",
   "metadata": {},
   "source": [
    "### Tuple\n",
    ": are heterogeneous sequences of data.\n",
    "\n",
    "- immutable"
   ]
  },
  {
   "cell_type": "markdown",
   "metadata": {},
   "source": [
    "### Set\n",
    ": is an unordered collection of zero or more Python data objects.\n",
    "\n",
    "- unordered\n",
    "- immutable\n",
    "- no duplicates"
   ]
  },
  {
   "cell_type": "markdown",
   "metadata": {},
   "source": [
    "### Dictionary\n",
    ": unordered collections of associated pairs of items where each pair consists of a key and a value.\n",
    "\n",
    "- unordered"
   ]
  }
 ],
 "metadata": {
  "kernelspec": {
   "display_name": "Python 2",
   "language": "python",
   "name": "python2"
  },
  "language_info": {
   "codemirror_mode": {
    "name": "ipython",
    "version": 2
   },
   "file_extension": ".py",
   "mimetype": "text/x-python",
   "name": "python",
   "nbconvert_exporter": "python",
   "pygments_lexer": "ipython2",
   "version": "2.7.13"
  }
 },
 "nbformat": 4,
 "nbformat_minor": 2
}
