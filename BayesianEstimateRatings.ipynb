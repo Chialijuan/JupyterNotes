{
 "cells": [
  {
   "cell_type": "markdown",
   "metadata": {},
   "source": [
    "https://medium.com/district-data-labs/computing-a-bayesian-estimate-of-star-rating-means-651496a890ab  \n",
    "https://www.analyticsvidhya.com/blog/2019/07/introduction-online-rating-systems-bayesian-adjusted-rating/"
   ]
  },
  {
   "cell_type": "code",
   "execution_count": null,
   "metadata": {},
   "outputs": [],
   "source": [
    "def plot_mean_frequency(self):\n",
    "    grid   = pd.DataFrame({\n",
    "                'Mean Rating':  self.movies['rating'].mean(),\n",
    "                'Number of Reviewers': self.movies['rating'].count()\n",
    "             })\n",
    "    grid.plot(x='Number of Reviewers', y='Mean Rating', kind='hexbin',\n",
    "              xscale='log', cmap='YlGnBu', gridsize=12, mincnt=1,\n",
    "              title=\"Star Ratings by Simple Mean\")\n",
    "    plt.show()"
   ]
  }
 ],
 "metadata": {
  "kernelspec": {
   "display_name": "Python 3",
   "language": "python",
   "name": "python3"
  },
  "language_info": {
   "codemirror_mode": {
    "name": "ipython",
    "version": 3
   },
   "file_extension": ".py",
   "mimetype": "text/x-python",
   "name": "python",
   "nbconvert_exporter": "python",
   "pygments_lexer": "ipython3",
   "version": "3.7.1"
  }
 },
 "nbformat": 4,
 "nbformat_minor": 2
}
