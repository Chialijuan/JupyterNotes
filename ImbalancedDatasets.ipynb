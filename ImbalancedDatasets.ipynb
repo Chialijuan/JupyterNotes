{
 "cells": [
  {
   "cell_type": "markdown",
   "metadata": {},
   "source": [
    "### To explore various methods of reducing the issues brought upon by imbalanced datasets in ML problems\n",
    "\n",
    "Learning phase and subsequent prediction of models can be affected by the problem of imbalanced datasets. More often than not, the decision function of classifiers would usually favour the majority class."
   ]
  },
  {
   "cell_type": "markdown",
   "metadata": {},
   "source": [
    "- Undersampling\n",
    "- Oversampling\n",
    "- Generate synthetic data for minority class\n",
    "\n",
    "How should we rebalance dataset:\n",
    "- Equal proportion of both classes?\n",
    "- Majority stays represented?\n",
    "\n",
    "No straight-forward answer as modifying datasets with resampling methods is changing reality.\n",
    "Exercise with caution."
   ]
  },
  {
   "cell_type": "markdown",
   "metadata": {},
   "source": [
    "Evaluation methods\n",
    "\n",
    "Accuracy based: classifier would as a matter of fact, always predict the majority class if real data is imbalanced.\n",
    "Cost-based: "
   ]
  },
  {
   "cell_type": "code",
   "execution_count": null,
   "metadata": {
    "collapsed": true
   },
   "outputs": [],
   "source": [
    "# Loading in datsets\n"
   ]
  },
  {
   "cell_type": "code",
   "execution_count": null,
   "metadata": {
    "collapsed": true
   },
   "outputs": [],
   "source": [
    "# Illustrate imbalance dataset"
   ]
  }
 ],
 "metadata": {
  "kernelspec": {
   "display_name": "Python 3",
   "language": "python",
   "name": "python3"
  },
  "language_info": {
   "codemirror_mode": {
    "name": "ipython",
    "version": 3
   },
   "file_extension": ".py",
   "mimetype": "text/x-python",
   "name": "python",
   "nbconvert_exporter": "python",
   "pygments_lexer": "ipython3",
   "version": "3.6.3"
  }
 },
 "nbformat": 4,
 "nbformat_minor": 2
}
